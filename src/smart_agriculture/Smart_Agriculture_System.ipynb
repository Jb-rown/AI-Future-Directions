{
  "nbformat": 4,
  "nbformat_minor": 0,
  "metadata": {
    "colab": {
      "provenance": []
    },
    "kernelspec": {
      "name": "python3",
      "display_name": "Python 3"
    },
    "language_info": {
      "name": "python"
    }
  },
  "cells": [
    {
      "cell_type": "code",
      "execution_count": null,
      "metadata": {
        "colab": {
          "base_uri": "https://localhost:8080/"
        },
        "id": "r9IcvUWlE3Ak",
        "outputId": "4402b51c-bbd0-4911-c67d-97f5ac8b716c"
      },
      "outputs": [
        {
          "output_type": "stream",
          "name": "stdout",
          "text": [
            "Predicted Yield: 2616.4968087824104\n"
          ]
        }
      ],
      "source": [
        "# Sample ML model for predicting crop yield\n",
        "from sklearn.linear_model import LinearRegression\n",
        "import numpy as np\n",
        "\n",
        "# Simulated sensor data\n",
        "X = np.random.rand(100, 5)  # Moisture, Temp, Humidity, Light, pH\n",
        "y = np.random.rand(100) * 100  # Crop yield in kg\n",
        "\n",
        "model = LinearRegression()\n",
        "model.fit(X, y)\n",
        "\n",
        "# Predict\n",
        "new_data = np.array([[0.3, 25, 60, 200, 6.5]])\n",
        "print(\"Predicted Yield:\", model.predict(new_data)[0])\n"
      ]
    }
  ]
}